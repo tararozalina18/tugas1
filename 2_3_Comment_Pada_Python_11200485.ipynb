{
 "cells": [
  {
   "cell_type": "code",
   "execution_count": null,
   "metadata": {
    "id": "QChNmnXf_-pE"
   },
   "outputs": [],
   "source": []
  },
  {
   "cell_type": "markdown",
   "metadata": {
    "id": "CQqHfxdyArzJ"
   },
   "source": [
    "##Melakukan Comment Pada Python\n",
    "Pada suatu kegiatan membuat code, penting sekali bagi para penulis codenya untuk memberikan sebuah dokumentasi pada penulisan codenya. Mengapa hal itu sangat penting? Sederhana, jika codenya sudah lebih dari ribuan baris dan ada beberapa bagian yang perlu diperbaiki karena suatu perubahan, para penulis code cukup melihat dokumentasinya dan tidak perlu membaca dan memahami seluruh isi code dari awal. Nah, salah satu metode yang biasa digunakan adalah menggunakan comment. Sama dengan Bahasa Python juga menggunakan tanda “#” untuk melakukan comment pada script.\n",
    "\n",
    "Cobalah ketikkan sebuah kalimat seperti di bawah ini beserta commentnya. Kemudian lakukan eksekusi dengan menekan tombol **[Run]**"
   ]
  },
  {
   "cell_type": "code",
   "execution_count": 2,
   "metadata": {
    "colab": {
     "base_uri": "https://localhost:8080/"
    },
    "id": "oBXKvs3qA2Xb",
    "outputId": "219804c3-7e57-4de8-e6c0-ac28376d1061"
   },
   "outputs": [
    {
     "name": "stdout",
     "output_type": "stream",
     "text": [
      "Ini adalah sebuah baris kode\n"
     ]
    }
   ],
   "source": [
    "print(\"Ini adalah sebuah baris kode\")#ini adalah contoh comment dan tidak akan tercetak"
   ]
  },
  {
   "cell_type": "markdown",
   "metadata": {
    "id": "8yPh4FQWA_DU"
   },
   "source": [
    "Perlu diketahui, comment tidak akan pernah tampil pada hasil melalui console atau GUI. Fungsi comment bisa dikatakan sebagai penanda. Kenapa bab ini diberikan diawal? Harapannya dengan pengetahuan ini setiap kali Anda membuat baris code, bisa diberikan dokumentasi. Dokumentasi sangat penting untuk pengembangan suatu code apabila memang nanti diperlukan.\n",
    "\n",
    "Dokumentasi kode juga berlaku untuk variable. Sangat penting mengetahui bahwa setiap variable berfungsi sebagai apa dan isinya apa. Maka dari itu jangan lupa untuk membuat dan memberi comment untuk setiap kode pada materi kita\n",
    "\n",
    " \n",
    "\n",
    "**Tugas Praktek 3.2**\n",
    "\n",
    "1. Berikan keterangan untuk setiap baris program dengan perintah comment"
   ]
  },
  {
   "cell_type": "code",
   "execution_count": 1,
   "metadata": {
    "colab": {
     "base_uri": "https://localhost:8080/"
    },
    "id": "Yy5gqIzRBApb",
    "outputId": "43240d99-af18-47e1-f380-e308e335584c"
   },
   "outputs": [
    {
     "name": "stdout",
     "output_type": "stream",
     "text": [
      "25\n",
      "20\n"
     ]
    }
   ],
   "source": [
    "#Jawab Tugas Praktek 3.2 Nomor 1\n",
    "\n",
    "print(10*2+5) #fungsi matematika\n",
    "print(\"20\") #fungsi mencetak kalimat"
   ]
  },
  {
   "cell_type": "markdown",
   "metadata": {
    "id": "PQsFFoqjBJm0"
   },
   "source": [
    "2. Cetak Nama dan NIM anda dilayar berikan comment untuk masing - masing perintah"
   ]
  },
  {
   "cell_type": "code",
   "execution_count": 1,
   "metadata": {
    "colab": {
     "base_uri": "https://localhost:8080/"
    },
    "id": "SiToLqkJw3p7",
    "outputId": "1fdfbb01-004e-4d03-8f9e-4e7789681d36"
   },
   "outputs": [
    {
     "name": "stdout",
     "output_type": "stream",
     "text": [
      "25\n",
      "20\n",
      "Tara Rozalina\n",
      "11200485\n"
     ]
    }
   ],
   "source": [
    "#Jawab Tugas Praktek 3.2 Nomor 2\n",
    "\n",
    "print(10*2+5) #fungsi matematika\n",
    "print(\"20\") #fungsi mencetak kalimat\n",
    "print(\"Tara Rozalina\")# nama\n",
    "print(\"11200485\") #NIM"
   ]
  },
  {
   "cell_type": "code",
   "execution_count": null,
   "metadata": {},
   "outputs": [],
   "source": []
  }
 ],
 "metadata": {
  "colab": {
   "collapsed_sections": [],
   "name": "2_3_Comment_Pada_Python.ipynb",
   "provenance": []
  },
  "kernelspec": {
   "display_name": "Python 3",
   "language": "python",
   "name": "python3"
  },
  "language_info": {
   "codemirror_mode": {
    "name": "ipython",
    "version": 3
   },
   "file_extension": ".py",
   "mimetype": "text/x-python",
   "name": "python",
   "nbconvert_exporter": "python",
   "pygments_lexer": "ipython3",
   "version": "3.7.4"
  },
  "toc": {
   "base_numbering": 1,
   "nav_menu": {},
   "number_sections": false,
   "sideBar": false,
   "skip_h1_title": false,
   "title_cell": "Table of Contents",
   "title_sidebar": "Contents",
   "toc_cell": false,
   "toc_position": {},
   "toc_section_display": false,
   "toc_window_display": false
  }
 },
 "nbformat": 4,
 "nbformat_minor": 1
}
