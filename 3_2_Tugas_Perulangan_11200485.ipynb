{
 "cells": [
  {
   "cell_type": "code",
   "execution_count": null,
   "metadata": {
    "id": "fkV8YRAQlm-C"
   },
   "outputs": [],
   "source": []
  },
  {
   "cell_type": "markdown",
   "metadata": {
    "id": "lnkJ-zBHl3jp"
   },
   "source": [
    "## Access Element\n",
    "Keunikan lain dari looping dengan python adalah selain bahasa yang mudah dimengerti dalam looping, kita juga bisa mengakses elemen yang terdapat pada sebuah list. Berikut ini contohnya :\n",
    "``` javascript\n",
    "#Tugas 3.2.1\n",
    "count=[1,2,3,4,5] #elemen list\n",
    "\n",
    "for number in count: #looping untuk menampilkan semua elemen pada count\n",
    "    print(\"Ini adalah element count : \", number) #menampilkan elemen list pada count\n",
    "```\n",
    "Implekementasikan kode diatas, ketikan pada code cell di bawah ini, berikan penjelasan terkait kode diatas"
   ]
  },
  {
   "cell_type": "code",
   "execution_count": 1,
   "metadata": {
    "id": "xYjQqqNLm-dB"
   },
   "outputs": [
    {
     "name": "stdout",
     "output_type": "stream",
     "text": [
      "Ini adalah element count :  1\n",
      "Ini adalah element count :  2\n",
      "Ini adalah element count :  3\n",
      "Ini adalah element count :  4\n",
      "Ini adalah element count :  5\n"
     ]
    }
   ],
   "source": [
    "# Jawaban Tugas 3.2.1\n",
    "#Tugas 3.2.1\n",
    "count=[1,2,3,4,5] #elemen list\n",
    "\n",
    "for number in count: #looping untuk menampilkan semua elemen pada count\n",
    "    print(\"Ini adalah element count : \", number) #menampilkan elemen list pada count"
   ]
  },
  {
   "cell_type": "markdown",
   "metadata": {
    "id": "figDWKAcnZRA"
   },
   "source": [
    "## Tugas Praktek 3.2.2\n",
    "1. Buatlah sebuah program yang bisa mengeluarkan angka 1 sampai 10.\n",
    "1. Buatlah sebuah program yang bisa mengeluarkan angka -20 sampai -50.\n",
    "3. Tampilan akan menunjukan \"Angka ganjil 1\" untuk angka ganjil dan \"Angka genap 2\" untuk angka genap. (Menggunakan looping for)\n",
    "\n",
    "**Note:** Kode dasar sudah disertakan, Anda cukup mengganti tanda # dengan nilai-nilai yang sesuai."
   ]
  },
  {
   "cell_type": "code",
   "execution_count": 8,
   "metadata": {
    "id": "MElhruOTntzZ"
   },
   "outputs": [
    {
     "name": "stdout",
     "output_type": "stream",
     "text": [
      "Ini adalah angka :  1\n",
      "Ini adalah angka :  2\n",
      "Ini adalah angka :  3\n",
      "Ini adalah angka :  4\n",
      "Ini adalah angka :  5\n",
      "Ini adalah angka :  6\n",
      "Ini adalah angka :  7\n",
      "Ini adalah angka :  8\n",
      "Ini adalah angka :  9\n",
      "Ini adalah angka :  10\n"
     ]
    }
   ],
   "source": [
    "#Jawaban Tugas 3.2.1.1\n",
    "count=[1,2,3,4,5,6,7,8,9,10]\n",
    "\n",
    "for number in count:\n",
    "    print(\"Ini adalah angka : \", number) "
   ]
  },
  {
   "cell_type": "code",
   "execution_count": 11,
   "metadata": {
    "id": "NFtMjrQznuF2"
   },
   "outputs": [
    {
     "name": "stdout",
     "output_type": "stream",
     "text": [
      "Ini adalah angka : -50\n",
      "Ini adalah angka : -49\n",
      "Ini adalah angka : -48\n",
      "Ini adalah angka : -47\n",
      "Ini adalah angka : -46\n",
      "Ini adalah angka : -45\n",
      "Ini adalah angka : -44\n",
      "Ini adalah angka : -43\n",
      "Ini adalah angka : -42\n",
      "Ini adalah angka : -41\n",
      "Ini adalah angka : -40\n",
      "Ini adalah angka : -39\n",
      "Ini adalah angka : -38\n",
      "Ini adalah angka : -37\n",
      "Ini adalah angka : -36\n",
      "Ini adalah angka : -35\n",
      "Ini adalah angka : -34\n",
      "Ini adalah angka : -33\n",
      "Ini adalah angka : -32\n",
      "Ini adalah angka : -31\n",
      "Ini adalah angka : -30\n",
      "Ini adalah angka : -29\n",
      "Ini adalah angka : -28\n",
      "Ini adalah angka : -27\n",
      "Ini adalah angka : -26\n",
      "Ini adalah angka : -25\n",
      "Ini adalah angka : -24\n",
      "Ini adalah angka : -23\n",
      "Ini adalah angka : -22\n",
      "Ini adalah angka : -21\n",
      "Ini adalah angka : -20\n"
     ]
    }
   ],
   "source": [
    "#Jawaban Tugas 3.2.1.2\n",
    "i=-50\n",
    "while i <= -20:\n",
    "    print(\"Ini adalah angka :\", i)\n",
    "    i+=1"
   ]
  },
  {
   "cell_type": "code",
   "execution_count": 27,
   "metadata": {
    "id": "xpGigMPBpBy7"
   },
   "outputs": [
    {
     "name": "stdout",
     "output_type": "stream",
     "text": [
      "Angka Ganjil 1\n",
      "Angka Genap 2\n",
      "Angka Ganjil 3\n",
      "Angka Genap 4\n",
      "Angka Ganjil 5\n",
      "Angka Genap 6\n",
      "Angka Ganjil 7\n",
      "Angka Genap 8\n",
      "Angka Ganjil 9\n",
      "Angka Genap 10\n"
     ]
    }
   ],
   "source": [
    "#Jawaban Tugas 3.2.1.3\n",
    "for i in range (1,11):\n",
    "   if (i%2==0):\n",
    "        print (\"Angka Genap\",i)\n",
    "   else:\n",
    "        print(\"Angka Ganjil\",i)"
   ]
  },
  {
   "cell_type": "code",
   "execution_count": null,
   "metadata": {},
   "outputs": [],
   "source": []
  }
 ],
 "metadata": {
  "colab": {
   "collapsed_sections": [],
   "name": "3.2_Tugas_Perulangan.ipynb",
   "provenance": []
  },
  "kernelspec": {
   "display_name": "Python 3",
   "language": "python",
   "name": "python3"
  },
  "language_info": {
   "codemirror_mode": {
    "name": "ipython",
    "version": 3
   },
   "file_extension": ".py",
   "mimetype": "text/x-python",
   "name": "python",
   "nbconvert_exporter": "python",
   "pygments_lexer": "ipython3",
   "version": "3.7.4"
  },
  "toc": {
   "base_numbering": 1,
   "nav_menu": {},
   "number_sections": false,
   "sideBar": false,
   "skip_h1_title": false,
   "title_cell": "Table of Contents",
   "title_sidebar": "Contents",
   "toc_cell": false,
   "toc_position": {},
   "toc_section_display": false,
   "toc_window_display": false
  }
 },
 "nbformat": 4,
 "nbformat_minor": 1
}
