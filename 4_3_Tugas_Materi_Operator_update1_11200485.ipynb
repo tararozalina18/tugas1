{
 "cells": [
  {
   "cell_type": "code",
   "execution_count": null,
   "metadata": {
    "id": "wOlm8I2lPwa7"
   },
   "outputs": [],
   "source": []
  },
  {
   "cell_type": "markdown",
   "metadata": {
    "id": "xQeqMxskP66X"
   },
   "source": [
    "##Tugas Praktek\n",
    "``` javascript\n",
    "if ... :\n",
    "    print(\"angka termasuk bilangan genap\")\n",
    "else:\n",
    "    print(\"angka termasuk bilangan ganjil\")\n",
    "``` \n",
    "Buatlah sebuah program yang bisa menentukan suatu nilai pada variable itu genap atau ganjil! Lakukan percobaan dengan langkah berikut:\n",
    "\n",
    "Buat variabel dengan nama “angka” isi dengan nilai 10\n",
    "Ganti bagian … dengan perhitungan untuk menentukan angka modulus 2 bernilai 0.\n",
    "\n",
    "1.   Buat variabel dengan nama **“angka”** isi dengan nilai 10\n",
    "2.   Ganti bagian … dengan perhitungan untuk menentukan angka modulus 2 bernilai 0.\n",
    "\n",
    "\n",
    "Cek apakah benar dia bernilai genap maka keluarkan **\"angka termasuk bilangan genap\"**, jika sudah ganti nilai variable angka dengan nilai 5 cek lagi apakah dia bernilai ganjil dan keluarkan **\"angka termasuk bilangan ganjil\"**.\n",
    "\n",
    "Note: Anda bisa menggunakan materi-materi sebelumnya dengan menggabungkannya di tugas praktek ini untuk membantu anda dalam mengerjakan.\n",
    "\n",
    "\n",
    "Ketikan pada code cell di bawah ini pada editor:"
   ]
  },
  {
   "cell_type": "code",
   "execution_count": 12,
   "metadata": {
    "id": "eAf4FfQ-Qh57"
   },
   "outputs": [
    {
     "name": "stdout",
     "output_type": "stream",
     "text": [
      "angka termasuk bilangan ganjil\n"
     ]
    }
   ],
   "source": [
    "##Jawaban Tugas Praktek 3.3\n",
    "angka=10\n",
    "\n",
    "if angka%2:\n",
    "    print(\"angka termasuk bilangan genap\")\n",
    "else:\n",
    "    print(\"angka termasuk bilangan ganjil\")"
   ]
  },
  {
   "cell_type": "code",
   "execution_count": 11,
   "metadata": {},
   "outputs": [
    {
     "name": "stdout",
     "output_type": "stream",
     "text": [
      "angka termasuk bilangan genap\n"
     ]
    }
   ],
   "source": [
    "angka=5\n",
    "\n",
    "if angka%2 :\n",
    "\n",
    "    print(\"angka termasuk bilangan genap\")\n",
    "else:\n",
    "    print(\"angka termasuk bilangan ganjil\")"
   ]
  },
  {
   "cell_type": "code",
   "execution_count": null,
   "metadata": {},
   "outputs": [],
   "source": []
  }
 ],
 "metadata": {
  "colab": {
   "collapsed_sections": [],
   "name": "Copy of Copy of 4.3_Tugas_Materi_Operator.ipynb",
   "provenance": []
  },
  "kernelspec": {
   "display_name": "Python 3",
   "language": "python",
   "name": "python3"
  },
  "language_info": {
   "codemirror_mode": {
    "name": "ipython",
    "version": 3
   },
   "file_extension": ".py",
   "mimetype": "text/x-python",
   "name": "python",
   "nbconvert_exporter": "python",
   "pygments_lexer": "ipython3",
   "version": "3.7.4"
  },
  "toc": {
   "base_numbering": 1,
   "nav_menu": {},
   "number_sections": false,
   "sideBar": false,
   "skip_h1_title": false,
   "title_cell": "Table of Contents",
   "title_sidebar": "Contents",
   "toc_cell": false,
   "toc_position": {},
   "toc_section_display": false,
   "toc_window_display": false
  }
 },
 "nbformat": 4,
 "nbformat_minor": 1
}
