{
 "cells": [
  {
   "cell_type": "code",
   "execution_count": null,
   "metadata": {
    "id": "r3Zdz7GxjwEB"
   },
   "outputs": [],
   "source": []
  },
  {
   "cell_type": "markdown",
   "metadata": {
    "id": "Sh1Z3vgEka_O"
   },
   "source": [
    "##3.1. Tugas:\n",
    "Berikut ini adalah psudo code  untuk melakukan pengecekan bertingkat\n",
    "``` javascript\n",
    "i <= 2\n",
    "IF i < 7 THEN\n",
    "\tCETAK \"Nilai i kurang dari 7\"\n",
    "\tIF i < 3 THEN\n",
    "\t   CETAK \"Nilai i kurang dari 7 dan kurang dari 3\"\n",
    "\tELSE\n",
    "\t\tCETAK \"Nilai i kurang dari 7 tapi kurang dari 3\"\n",
    "\n",
    "```\n",
    "Implekementasikan kode diatas dalam kode python. Ketikan code cell di bawah ini pada editor:"
   ]
  },
  {
   "cell_type": "code",
   "execution_count": 21,
   "metadata": {
    "id": "OV-NfRKHk0Vy"
   },
   "outputs": [
    {
     "name": "stdout",
     "output_type": "stream",
     "text": [
      "Nilai i kurang dari 7\n",
      "Nilai i kurang dari 7 dan kurang dari 3\n"
     ]
    }
   ],
   "source": [
    "##Jawaban Tugas 3.1\n",
    "i = 2\n",
    "if (i<7):\n",
    "    print (\"Nilai i kurang dari 7\")\n",
    "    if (i<3):\n",
    "       print (\"Nilai i kurang dari 7 dan kurang dari 3\")\n",
    "    else:\n",
    "        print (\"Nilai i kurang dari 7 tapi kurang dari 3\")"
   ]
  },
  {
   "cell_type": "code",
   "execution_count": null,
   "metadata": {},
   "outputs": [],
   "source": []
  }
 ],
 "metadata": {
  "colab": {
   "collapsed_sections": [],
   "name": "3.1_Tugas_Seleksi.ipynb",
   "provenance": []
  },
  "kernelspec": {
   "display_name": "Python 3",
   "language": "python",
   "name": "python3"
  },
  "language_info": {
   "codemirror_mode": {
    "name": "ipython",
    "version": 3
   },
   "file_extension": ".py",
   "mimetype": "text/x-python",
   "name": "python",
   "nbconvert_exporter": "python",
   "pygments_lexer": "ipython3",
   "version": "3.7.4"
  },
  "toc": {
   "base_numbering": 1,
   "nav_menu": {},
   "number_sections": false,
   "sideBar": false,
   "skip_h1_title": false,
   "title_cell": "Table of Contents",
   "title_sidebar": "Contents",
   "toc_cell": false,
   "toc_position": {},
   "toc_section_display": false,
   "toc_window_display": false
  }
 },
 "nbformat": 4,
 "nbformat_minor": 1
}
